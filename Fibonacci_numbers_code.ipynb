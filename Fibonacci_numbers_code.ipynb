{
  "cells": [
    {
      "cell_type": "markdown",
      "metadata": {
        "id": "view-in-github",
        "colab_type": "text"
      },
      "source": [
        "<a href=\"https://colab.research.google.com/github/SemaGasimzade/Optimalization/blob/main/Fibonacci_numbers_code.ipynb\" target=\"_parent\"><img src=\"https://colab.research.google.com/assets/colab-badge.svg\" alt=\"Open In Colab\"/></a>"
      ]
    },
    {
      "cell_type": "code",
      "source": [
        "# 1. Minimumunu tapmaq istədiyimiz funksiya\n",
        "# BASIC kodunda belə idi: Z = x^4 - 14x^3 + 60x^2 - 70\n",
        "def f(x):\n",
        "    return x**4 - 14*x**3 + 60*x**2 - 70\n",
        "\n",
        "\n",
        "# 2. Fibonacci ədədlərini hesablayan funksiya\n",
        "def fibonacci_numbers(n):\n",
        "    f = [1, 1]   # ilk iki Fibonacci ədədi: F(0)=1, F(1)=1\n",
        "    for i in range(2, n+1):              # 2-dən başlayıb n-ə qədər hesablayırıq\n",
        "        f.append(f[i-1] + f[i-2])        # qayda: F(i) = F(i-1) + F(i-2)\n",
        "    return f\n",
        "\n",
        "\n",
        "# 3. Fibonacci Search alqoritmi\n",
        "def fibonacci_search(a, b, epsilon, N):\n",
        "    \"\"\"\n",
        "    a, b     -> başlanğıc interval\n",
        "    epsilon  -> dəqiqlik (intervalın nə qədər kiçilməsini istəyirik)\n",
        "    N        -> neçə Fibonacci addımı aparılacaq\n",
        "    \"\"\"\n",
        "\n",
        "    # Fibonacci ədədlərini hesabla\n",
        "    F = fibonacci_numbers(N)\n",
        "\n",
        "    # Başlanğıc intervalın ucları\n",
        "    x1 = a\n",
        "    x3 = b\n",
        "\n",
        "    # İlk orta nöqtə (Fibonacci düsturuna görə)\n",
        "    x2 = a + ((b - a) * F[N-1] + epsilon * ((-1)**N)) / F[N]\n",
        "    f2 = f(x2)   # funksiyanın həmin nöqtədə qiyməti\n",
        "\n",
        "    print(\"Başlanğıc interval:\", (x1, x3))\n",
        "    print(\"İlkin nöqtə x2 =\", x2, \"f(x2) =\", f2)\n",
        "\n",
        "    # Dövr – N-2 dəfə işləyəcək\n",
        "    for k in range(1, N-1):\n",
        "        # Yeni nöqtə x4 Fibonacci düsturuna görə\n",
        "        x4 = a + ((b - a) * F[N-k-1] + epsilon * ((-1)**(N-k))) / F[N-k]\n",
        "        f4 = f(x4)   # funksiyanın həmin nöqtədə qiyməti\n",
        "\n",
        "        # Funksiya qiymətlərini müqayisə edirik\n",
        "        if f2 <= f4:\n",
        "            b = x4      # minimum sol tərəfdədir → sağ sərhəd dəyişir\n",
        "        else:\n",
        "            a = x2      # minimum sağ tərəfdədir → sol sərhəd dəyişir\n",
        "            f2 = f4     # f2-ni yeniləyirik\n",
        "\n",
        "        # İndiki orta nöqtə artıq x4 olur\n",
        "        x2 = x4\n",
        "\n",
        "        # Cari intervalı çap edirik\n",
        "        print(f\"Addım {k}: Yeni interval = ({a}, {b})\")\n",
        "\n",
        "    # Sonda interval çox kiçilir → minimum təqribən ortadadır\n",
        "    x_min = (a + b) / 2\n",
        "    print(\"Təqribi minimum nöqtə:\", x_min)\n",
        "    print(\"Funksiya qiyməti f(x) =\", f(x_min))\n",
        "    return x_min\n",
        "\n",
        "\n",
        "# 4. İstifadəçi girişləri (terminaldan soruşuruq)\n",
        "epsilon = float(input(\"Epsilon (dəqiqlik) dəyərini daxil edin: \"))\n",
        "a = float(input(\"Intervalın başlanğıcı (a): \"))\n",
        "b = float(input(\"Intervalın sonu (b): \"))\n",
        "\n",
        "# 5. Axtarışı işə salırıq (N=10 Fibonacci addımı kimi götürək)\n",
        "fibonacci_search(a, b, epsilon, N=10)\n"
      ],
      "metadata": {
        "id": "SGXf7PM9L0CW",
        "outputId": "a535aff7-ca56-4e48-8b8e-83641d8ff5ab",
        "colab": {
          "base_uri": "https://localhost:8080/"
        }
      },
      "execution_count": 10,
      "outputs": [
        {
          "output_type": "stream",
          "name": "stdout",
          "text": [
            "Epsilon (dəqiqlik) dəyərini daxil edin: 0.01\n",
            "Intervalın başlanğıcı (a): 0\n",
            "Intervalın sonu (b): 5\n",
            "Başlanğıc interval: (0.0, 5.0)\n",
            "İlkin nöqtə x2 = 3.09 f(x2) = 181.00140761\n",
            "Addım 1: Yeni interval = (0.0, 3.090727272727273)\n",
            "Addım 2: Yeni interval = (3.090727272727273, 3.090727272727273)\n",
            "Addım 3: Yeni interval = (3.090727272727273, 3.0902510822510827)\n",
            "Addım 4: Yeni interval = (3.090727272727273, 3.0912034632034637)\n",
            "Addım 5: Yeni interval = (3.090727272727273, 3.0897748917748924)\n",
            "Addım 6: Yeni interval = (3.090727272727273, 3.0921558441558448)\n",
            "Addım 7: Yeni interval = (3.090727272727273, 3.088346320346321)\n",
            "Addım 8: Yeni interval = (3.090727272727273, 3.094536796536797)\n",
            "Təqribi minimum nöqtə: 3.092632034632035\n",
            "Funksiya qiyməti f(x) = 181.23239872485112\n"
          ]
        },
        {
          "output_type": "execute_result",
          "data": {
            "text/plain": [
              "3.092632034632035"
            ]
          },
          "metadata": {},
          "execution_count": 10
        }
      ]
    }
  ],
  "metadata": {
    "colab": {
      "name": "Welcome To Colab",
      "provenance": [],
      "include_colab_link": true
    },
    "kernelspec": {
      "display_name": "Python 3",
      "name": "python3"
    }
  },
  "nbformat": 4,
  "nbformat_minor": 0
}