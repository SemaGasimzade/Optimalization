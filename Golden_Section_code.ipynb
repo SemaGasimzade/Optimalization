{
  "cells": [
    {
      "cell_type": "markdown",
      "metadata": {
        "id": "view-in-github",
        "colab_type": "text"
      },
      "source": [
        "<a href=\"https://colab.research.google.com/github/SemaGasimzade/Optimalization/blob/main/Golden_Section_code.ipynb\" target=\"_parent\"><img src=\"https://colab.research.google.com/assets/colab-badge.svg\" alt=\"Open In Colab\"/></a>"
      ]
    },
    {
      "cell_type": "code",
      "source": [
        "import math  # Riyazi funksiyaları işlətmək üçün kitabxana\n",
        "\n",
        "# Minimallaşdırmaq istədiyimiz funksiya\n",
        "def f(x):\n",
        "    # f(x) = - e^(-x) * ln(x)\n",
        "    return -math.exp(-x) * math.log(x)\n",
        "\n",
        "# Golden Section Search funksiyası (minimum tapmaq üçün)\n",
        "def golden_section(f, a, b, tol=5e-5, max_iter=10000):\n",
        "    # Qızıl nisbət sabitləri\n",
        "    phi = (math.sqrt(5) - 1) / 2   # təxminən 0.618\n",
        "    resphi = 1 - phi               # təxminən 0.382\n",
        "\n",
        "    # Interval daxilində ilk 2 nöqtəni seçirik\n",
        "    c = a + resphi * (b - a)\n",
        "    d = a + phi * (b - a)\n",
        "    fc = f(c)  # f(c) hesabla\n",
        "    fd = f(d)  # f(d) hesabla\n",
        "\n",
        "    iterations = 0  # neçə addım getdiyimizi saymaq üçün\n",
        "\n",
        "    # Interval çox böyük olduqca və iterasiya limiti keçmədikcə davam et\n",
        "    while (b - a) > tol and iterations < max_iter:\n",
        "        # Əgər sağ tərəfdəki d nöqtəsi daha kiçikdirsə → minimum sağdadır\n",
        "        if fd < fc:\n",
        "            a = c          # sol sərhədi irəli çəkirik\n",
        "            c = d          # c nöqtəsi indi əvvəlki d olur\n",
        "            fc = fd        # f(c) də yenilənir\n",
        "            d = a + phi * (b - a)  # yeni d nöqtəsini hesablayırıq\n",
        "            fd = f(d)      # f(d) hesabla\n",
        "        else:\n",
        "            # Əks halda minimum soldadır\n",
        "            b = d          # sağ sərhədi geri çəkirik\n",
        "            d = c          # d nöqtəsi indi əvvəlki c olur\n",
        "            fd = fc        # f(d) də yenilənir\n",
        "            c = a + resphi * (b - a)  # yeni c nöqtəsini hesablayırıq\n",
        "            fc = f(c)      # f(c) hesabla\n",
        "\n",
        "        iterations += 1  # 1 addım tamamlandı\n",
        "\n",
        "    # Interval çox kiçikləşəndə minimumu ortadan götürürük\n",
        "    x_min = (a + b) / 2\n",
        "    return x_min, f(x_min), iterations  # nəticəni geri qaytarırıq\n",
        "\n",
        "# İstifadə nümunəsi\n",
        "a, b = 0.1, 5.0  # başlanğıc interval\n",
        "x_min, f_min, iters = golden_section(f, a, b, tol=5e-5)\n",
        "\n",
        "# Nəticələri ekrana çıxarırıq\n",
        "print(\"Interval:\", a, b)\n",
        "print(\"x_min =\", x_min)\n",
        "print(\"f(x_min) =\", f_min)\n",
        "print(\"iterations =\", iters)\n"
      ],
      "metadata": {
        "colab": {
          "base_uri": "https://localhost:8080/"
        },
        "id": "3euEpMk-p8fh",
        "outputId": "8c74e89d-ef29-4609-c34e-31af89f14b57"
      },
      "execution_count": 5,
      "outputs": [
        {
          "output_type": "stream",
          "name": "stdout",
          "text": [
            "Interval: 0.1 5.0\n",
            "x_min = 1.7632229576905947\n",
            "f(x_min) = -0.09726013122763824\n",
            "iterations = 24\n"
          ]
        }
      ]
    }
  ],
  "metadata": {
    "colab": {
      "name": "Welcome To Colab",
      "provenance": [],
      "include_colab_link": true
    },
    "kernelspec": {
      "display_name": "Python 3",
      "name": "python3"
    }
  },
  "nbformat": 4,
  "nbformat_minor": 0
}