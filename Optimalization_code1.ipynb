{
  "cells": [
    {
      "cell_type": "markdown",
      "metadata": {
        "id": "view-in-github",
        "colab_type": "text"
      },
      "source": [
        "<a href=\"https://colab.research.google.com/github/SemaGasimzade/Optimalization/blob/main/Optimalization_code1.ipynb\" target=\"_parent\"><img src=\"https://colab.research.google.com/assets/colab-badge.svg\" alt=\"Open In Colab\"/></a>"
      ]
    },
    {
      "cell_type": "code",
      "source": [
        "z = float(input(\"Başlanğıc təxmini dəyər: \"))\n",
        "e = float(input(\"İstənilən dəqiqlik: \"))\n",
        "\n",
        "import math\n",
        "\n",
        "def f(z):\n",
        "    return 0.5 * z**2 - math.sin(z)\n",
        "\n",
        "def f_prime(z):\n",
        "    return z - math.cos(z)\n",
        "\n",
        "def f_double_prime(z):\n",
        "    return 1 + math.sin(z)\n",
        "\n",
        "while abs(f_prime(z)) > e:\n",
        "    print(\"Yenilənmiş təxmini dəyər:\", z)\n",
        "    z = z - f_prime(z) / f_double_prime(z)\n",
        "\n",
        "print(\"Nəticə:\", z)\n",
        "\n",
        "if f_double_prime(z) > 0:\n",
        "    print(\"Minimum nöqtəsi:\", z)\n",
        "elif f_double_prime(z) < 0:\n",
        "    print(\"Maksimum nöqtəsi:\", z)\n",
        "else:\n",
        "    print(\"Nə minimum, nə də maksimum (bəlkə çevrilmə nöqtəsidir):\", z)\n"
      ],
      "metadata": {
        "id": "DmguljqW_L_8",
        "outputId": "19b87c79-02a9-41af-d820-aa69e4c6c764",
        "colab": {
          "base_uri": "https://localhost:8080/"
        }
      },
      "execution_count": 9,
      "outputs": [
        {
          "output_type": "stream",
          "name": "stdout",
          "text": [
            "initial guess: 2\n",
            "desired accuracy: 0.0001\n",
            "Yenilənmiş təxmini dəyər: 2.0\n",
            "Yenilənmiş təxmini dəyər: 0.7345361688544632\n",
            "Result: 0.7390897242053693\n",
            "Minimum nöqtəsi: 0.7390897242053693\n"
          ]
        }
      ]
    }
  ],
  "metadata": {
    "colab": {
      "name": "Welcome To Colab",
      "toc_visible": true,
      "provenance": [],
      "include_colab_link": true
    },
    "kernelspec": {
      "display_name": "Python 3",
      "name": "python3"
    }
  },
  "nbformat": 4,
  "nbformat_minor": 0
}